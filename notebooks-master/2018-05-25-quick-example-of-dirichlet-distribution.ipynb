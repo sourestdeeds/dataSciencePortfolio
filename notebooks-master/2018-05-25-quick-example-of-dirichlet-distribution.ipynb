{
 "cells": [
  {
   "cell_type": "markdown",
   "metadata": {},
   "source": [
    "# Samples from Dirichlet distribution\n",
    "\n",
    "The Dirichlet distribution is a distribution over distributions!\n",
    "In Bayesian methods, it is used as a prior for categorical and multinomial distributions. The Dirichlet distribution appears in natural language processing in [Latent Dirichlet allocation](https://en.wikipedia.org/wiki/Latent_Dirichlet_allocation) and [Bayesian HMMs](http://www.aclweb.org/anthology/P07-1094).\n",
    "\n",
    "In this quick post, I'll sample from `pymc3`'s `Dirichlet` distribution using different values of concentration parameters and plot what the corresponding distributions. \n",
    "\n",
    "For more detailed information:\n",
    " - [Wikipedia article](https://en.wikipedia.org/wiki/Dirichlet_distribution).\n",
    " - [This document](http://mayagupta.org/publications/FrigyikKapilaGuptaIntroToDirichlet.pdf) seems to give a good background on the mathematics."
   ]
  },
  {
   "cell_type": "code",
   "execution_count": 1,
   "metadata": {},
   "outputs": [],
   "source": [
    "import warnings\n",
    "warnings.filterwarnings('ignore')\n",
    "\n",
    "import pymc3 as pm\n",
    "\n",
    "import matplotlib.pyplot as plt\n",
    "import numpy as np"
   ]
  },
  {
   "cell_type": "code",
   "execution_count": 2,
   "metadata": {},
   "outputs": [],
   "source": [
    "# helper functions you can skip over :D\n",
    "def hide_ticks(plot):\n",
    "    plot.axes.get_xaxis().set_visible(False)\n",
    "    plot.axes.get_yaxis().set_visible(False)\n",
    "\n",
    "SAVE = True\n",
    "def maybe_save_plot(filename):\n",
    "    if SAVE:\n",
    "        plt.tight_layout()\n",
    "        plt.savefig('images/' + filename, bbox_inches=\"tight\")"
   ]
  },
  {
   "cell_type": "markdown",
   "metadata": {},
   "source": [
    "Eh, a story might help explain. I'm randomly choosing one of three types of cookies, and I might want to weight some cookies higher than others. I don't know how exactly they should be weighted, but I have an idea of how I want them to be weighted. For example, it might be one of:\n",
    "\n",
    " - One type of cookie (I don't know which) is more frequent than the others. \n",
    " - Each type of cookie is equally likely.\n",
    " - One particular cookie type is weighted higher than the others.\n",
    " - I have no idea. \n",
    "\n",
    "By adjusting the concentration parameters `a` in the `pymc3.Dirichlet` distribution, I can add this information to my prior.\n",
    "\n",
    "To try this out, I'll sample a few examples from four Dirichlet distributions with different concentration parameters. \n",
    "\n",
    "Heads up, in Bayesian statistics, the prior involves the distribution that these samples come from, not the samples individually. If you saw my post about [Bayesian linear regression](2018-01-03-bayesian-linreg.ipynb), each of these samples is like a single line from the samples from the prior. The real prior distribution includes all of them!"
   ]
  },
  {
   "cell_type": "code",
   "execution_count": 3,
   "metadata": {},
   "outputs": [
    {
     "name": "stderr",
     "output_type": "stream",
     "text": [
      "Only 20 samples in chain.\n",
      "Auto-assigning NUTS sampler...\n",
      "Initializing NUTS using jitter+adapt_diag...\n",
      "Multiprocess sampling (2 chains in 2 jobs)\n",
      "NUTS: [dir_skewed_stickbreaking__, dir_ten_stickbreaking__, dir_one_stickbreaking__, dir_tenth_stickbreaking__]\n",
      "100%|██████████| 520/520 [00:09<00:00, 53.02it/s]\n",
      "There were 3 divergences after tuning. Increase `target_accept` or reparameterize.\n",
      "The acceptance probability does not match the target. It is 0.939145954445564, but should be close to 0.99. Try to increase the number of tuning steps.\n",
      "There were 5 divergences after tuning. Increase `target_accept` or reparameterize.\n"
     ]
    }
   ],
   "source": [
    "# how many categories to sample from\n",
    "values = 3\n",
    "\n",
    "with pm.Model() as model:\n",
    "    # borrowing these numbers from http://mayagupta.org/publications/FrigyikKapilaGuptaIntroToDirichlet.pdf\n",
    "    pm.Dirichlet('dir_tenth', a=0.1 * np.ones(values))\n",
    "    pm.Dirichlet('dir_one', a=1 * np.ones(values))\n",
    "    pm.Dirichlet('dir_ten', a=10 * np.ones(values))\n",
    "    pm.Dirichlet('dir_skewed', a=np.array([2, 5, 15]))\n",
    "    \n",
    "    # just sample a small number.\n",
    "    trace = pm.sample(20, nuts_kwargs=dict(target_accept=.99))"
   ]
  },
  {
   "cell_type": "markdown",
   "metadata": {},
   "source": [
    "For each of the four distribution, I'll grab ten samples. These samples are another distribution! I asked for three numbers, so the samples are three numbers that sum to one.\n",
    "I'll plot these ten sampled distributions as a stacked bar plot. They should all sum to one. They will also reflect the concentration parameter values:\n",
    "\n",
    " - `dir_tenth`: One type of cookie (I don't know which) is more frequent than the others. \n",
    " - `dir_one`: I have no idea. The *probabilities* are chosen from a uniform distribution.\n",
    " - `dir_ten`: Each type of cookie is equally likely.\n",
    " - `dir_skewed`: One particular cookie type is weighted higher than the others.\n",
    "\n",
    "These can be used as the values of a discrete probability distribution, for example as the probabilities in a multinomial distribution."
   ]
  },
  {
   "cell_type": "code",
   "execution_count": 4,
   "metadata": {},
   "outputs": [
    {
     "data": {
      "image/png": "[encoded data removed]",
      "text/plain": [
       "<Figure size 1152x288 with 4 Axes>"
      ]
     },
     "metadata": {},
     "output_type": "display_data"
    }
   ],
   "source": [
    "sample_count = 10\n",
    "\n",
    "fig, axs = plt.subplots(1, 4, figsize=(16, 4))\n",
    "\n",
    "names = ['dir_tenth', 'dir_one', 'dir_ten', 'dir_skewed']\n",
    "\n",
    "locations = np.arange(sample_count)\n",
    "for plot_i, name in enumerate(names):\n",
    "    examples = trace[name][:sample_count]\n",
    "    left_offset = np.zeros(sample_count)\n",
    "    for i in range(values):\n",
    "        vals = examples[:, i]\n",
    "        axs[plot_i].barh(\n",
    "            locations,\n",
    "            vals,\n",
    "            left=left_offset,\n",
    "        )\n",
    "        left_offset += vals\n",
    "    axs[plot_i].set_title(name)\n",
    "    axs[plot_i].axis('off')\n",
    "    \n",
    "maybe_save_plot('2018-05-26-dist')    \n",
    "plt.show()"
   ]
  },
  {
   "cell_type": "code",
   "execution_count": null,
   "metadata": {},
   "outputs": [],
   "source": []
  }
 ],
 "metadata": {
  "kernelspec": {
   "display_name": "Python 3",
   "language": "python",
   "name": "python3"
  },
  "language_info": {
   "codemirror_mode": {
    "name": "ipython",
    "version": 3
   },
   "file_extension": ".py",
   "mimetype": "text/x-python",
   "name": "python",
   "nbconvert_exporter": "python",
   "pygments_lexer": "ipython3",
   "version": "3.6.1"
  }
 },
 "nbformat": 4,
 "nbformat_minor": 2
}
