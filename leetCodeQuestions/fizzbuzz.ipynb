{
 "cells": [
  {
   "cell_type": "code",
   "execution_count": 1,
   "source": [
    "def fizzbuzz():\n",
    "    for i in range(1,101):\n",
    "        \n",
    "        # Condition checks to modify i\n",
    "        modifier = ''\n",
    "        if i % 3 == 0:\n",
    "            modifier += 'fizz'\n",
    "        if i % 5 == 0:\n",
    "            modifier += 'buzz'\n",
    "        if i % 7 == 0:\n",
    "            modifier += 'fuzz'\n",
    "        if i % 9 == 0:\n",
    "            modifier += 'bizz'\n",
    "        \n",
    "        # If all checks are false print i\n",
    "        if modifier == '':\n",
    "            print(i)\n",
    "        # Otherwise print the modified statement\n",
    "        else:\n",
    "            print(modifier)\n",
    "            \n",
    "def fizzbuzzlistcomp():\n",
    "    fizzbuzz = [\n",
    "                # Replace with text if no remainder\n",
    "                \"fizz\"*(not i%3) + \"buzz\"*(not i%5) +\n",
    "                \"fuzz\"*(not i%7) + \"bizz\"*(not i%9) +\n",
    "                \"zuzz\"*(not i%33) + \"zizz\"*(not i%55) +\n",
    "                \"mizz\"*(not i%77) + \"muzz\"*(not i%99)\n",
    "                # Otherwise return the integer if string is empty\n",
    "                or str(i)\n",
    "                # Iterate over 1 to 100\n",
    "                for i in range(1, 101)\n",
    "                # Choose what to keep\n",
    "                if i % 1 == 0\n",
    "                if 50 < i < 77\n",
    "    ]\n",
    "    return fizzbuzz\n",
    "\n",
    "if __name__ == '__main__':\n",
    "    #fizzbuzz()\n",
    "    fizzbuzz = fizzbuzzlistcomp()\n",
    "    print('\\n'.join(fizzbuzz))\n",
    "\n"
   ],
   "outputs": [
    {
     "output_type": "stream",
     "name": "stdout",
     "text": [
      "fizz\n",
      "52\n",
      "53\n",
      "fizzbizz\n",
      "buzzzizz\n",
      "fuzz\n",
      "fizz\n",
      "58\n",
      "59\n",
      "fizzbuzz\n",
      "61\n",
      "62\n",
      "fizzfuzzbizz\n",
      "64\n",
      "buzz\n",
      "fizzzuzz\n",
      "67\n",
      "68\n",
      "fizz\n",
      "buzzfuzz\n",
      "71\n",
      "fizzbizz\n",
      "73\n",
      "74\n",
      "fizzbuzz\n",
      "76\n"
     ]
    }
   ],
   "metadata": {}
  },
  {
   "cell_type": "markdown",
   "source": [
    "## Question 1\n",
    "Write a program which will find all such numbers which are divisible by 7 but are not a multiple of 5, between 2000 and 3200 (both included). The numbers obtained should be printed in a comma-separated sequence on a single line."
   ],
   "metadata": {}
  },
  {
   "cell_type": "code",
   "execution_count": 42,
   "source": [
    "def q1():\n",
    "    output = [\n",
    "              str(i)#*(not i%7)\n",
    "              for i in range(2000, 3201)\n",
    "              if i % 7 == 0\n",
    "              if i % 5 != 0\n",
    "    ]\n",
    "    print(', '.join(output))\n",
    "    \n",
    "q1()"
   ],
   "outputs": [
    {
     "output_type": "stream",
     "name": "stdout",
     "text": [
      "2002, 2009, 2016, 2023, 2037, 2044, 2051, 2058, 2072, 2079, 2086, 2093, 2107, 2114, 2121, 2128, 2142, 2149, 2156, 2163, 2177, 2184, 2191, 2198, 2212, 2219, 2226, 2233, 2247, 2254, 2261, 2268, 2282, 2289, 2296, 2303, 2317, 2324, 2331, 2338, 2352, 2359, 2366, 2373, 2387, 2394, 2401, 2408, 2422, 2429, 2436, 2443, 2457, 2464, 2471, 2478, 2492, 2499, 2506, 2513, 2527, 2534, 2541, 2548, 2562, 2569, 2576, 2583, 2597, 2604, 2611, 2618, 2632, 2639, 2646, 2653, 2667, 2674, 2681, 2688, 2702, 2709, 2716, 2723, 2737, 2744, 2751, 2758, 2772, 2779, 2786, 2793, 2807, 2814, 2821, 2828, 2842, 2849, 2856, 2863, 2877, 2884, 2891, 2898, 2912, 2919, 2926, 2933, 2947, 2954, 2961, 2968, 2982, 2989, 2996, 3003, 3017, 3024, 3031, 3038, 3052, 3059, 3066, 3073, 3087, 3094, 3101, 3108, 3122, 3129, 3136, 3143, 3157, 3164, 3171, 3178, 3192, 3199\n"
     ]
    }
   ],
   "metadata": {}
  },
  {
   "cell_type": "markdown",
   "source": [
    "## Question 2\n",
    "Question: Write a program which can compute the factorial of a given numbers. The results should be printed in a comma-separated sequence on a single line. Suppose the following input is supplied to the program: 8 Then, the output should be: 40320"
   ],
   "metadata": {}
  },
  {
   "cell_type": "code",
   "execution_count": 43,
   "source": [
    "def fact(x):\n",
    "    if x==0:\n",
    "        return 1\n",
    "    return x * fact(x - 1)\n",
    "\n",
    "fact(8)"
   ],
   "outputs": [
    {
     "output_type": "execute_result",
     "data": {
      "text/plain": [
       "40320"
      ]
     },
     "metadata": {},
     "execution_count": 43
    }
   ],
   "metadata": {}
  },
  {
   "cell_type": "markdown",
   "source": [
    "## Question 3\n",
    "Question: With a given integral number n, write a program to generate a dictionary that contains (i, i*i) such that is an integral number between 1 and n (both included). and then the program should print the dictionary. Suppose the following input is supplied to the program: 8 Then, the output should be: {1: 1, 2: 4, 3: 9, 4: 16, 5: 25, 6: 36, 7: 49, 8: 64}"
   ],
   "metadata": {}
  },
  {
   "cell_type": "code",
   "execution_count": 2,
   "source": [
    "def q3(x):\n",
    "    return {x:x*x for x in range(1, x+1)}\n",
    "q3(8)"
   ],
   "outputs": [
    {
     "output_type": "execute_result",
     "data": {
      "text/plain": [
       "{1: 1, 2: 4, 3: 9, 4: 16, 5: 25, 6: 36, 7: 49, 8: 64}"
      ]
     },
     "metadata": {},
     "execution_count": 2
    }
   ],
   "metadata": {}
  },
  {
   "cell_type": "markdown",
   "source": [
    "## Question 4\n",
    "Question: Write a program which accepts a sequence of comma-separated numbers from console and generate a list and a tuple which contains every number. Suppose the following input is supplied to the program: 34,67,55,33,12,98 Then, the output should be: ['34', '67', '55', '33', '12', '98'] ('34', '67', '55', '33', '12', '98')"
   ],
   "metadata": {}
  },
  {
   "cell_type": "code",
   "execution_count": 3,
   "source": [
    "def q4():\n",
    "    x = input().split(',')\n",
    "    return x, tuple(x)\n",
    "q4()"
   ],
   "outputs": [
    {
     "output_type": "execute_result",
     "data": {
      "text/plain": [
       "(['34', '67', '55', '33', '12', '98'], ('34', '67', '55', '33', '12', '98'))"
      ]
     },
     "metadata": {},
     "execution_count": 3
    }
   ],
   "metadata": {}
  },
  {
   "cell_type": "markdown",
   "source": [
    "## Question 5\n",
    "Question: Define a class which has at least two methods: getString: to get a string from console input printString: to print the string in upper case. Also please include simple test function to test the class methods."
   ],
   "metadata": {}
  },
  {
   "cell_type": "code",
   "execution_count": 4,
   "source": [
    "class String:\n",
    "    def __init__(self):\n",
    "        self.s = ''\n",
    "    \n",
    "    def getString(self):\n",
    "        self.s = input()\n",
    "        \n",
    "    def printString(self):\n",
    "        print(self.s.upper())\n",
    "        \n",
    "strObj = String()\n",
    "strObj.getString()\n",
    "strObj.printString()"
   ],
   "outputs": [
    {
     "output_type": "stream",
     "name": "stdout",
     "text": [
      "HELLO\n"
     ]
    }
   ],
   "metadata": {}
  },
  {
   "cell_type": "markdown",
   "source": [
    "## Question 6 \n",
    "Write a program that calculates and prints the value according to the given formula: Q = Square root of [(2 * C * D)/H] Following are the fixed values of C and H: C is 50. H is 30. D is the variable whose values should be input to your program in a comma-separated sequence. Example Let us assume the following comma separated input sequence is given to the program: 100,150,180 The output of the program should be: 18,22,24"
   ],
   "metadata": {}
  },
  {
   "cell_type": "code",
   "execution_count": 5,
   "source": [
    "import numpy as np\n",
    "def q6():\n",
    "    allD = [int(i) for i in input().split(',')]\n",
    "    D = np.array(allD)\n",
    "    C  = 50\n",
    "    H = 30\n",
    "    Q = np.sqrt((2 * C * D)/H).astype(int).astype(str)\n",
    "    print(','.join(Q))\n",
    "\n",
    "q6()"
   ],
   "outputs": [
    {
     "output_type": "stream",
     "name": "stdout",
     "text": [
      "8\n"
     ]
    }
   ],
   "metadata": {}
  },
  {
   "cell_type": "markdown",
   "source": [
    "## Question 7\n",
    "Question: Write a program which takes 2 digits, X,Y as input and generates a 2-dimensional array. The element value in the i-th row and j-th column of the array should be i*j. Note: i=0,1.., X-1; j=0,1,¡­Y-1. Example Suppose the following inputs are given to the program: 3,5 Then, the output of the program should be: [[0, 0, 0, 0, 0], [0, 1, 2, 3, 4], [0, 2, 4, 6, 8]]"
   ],
   "metadata": {}
  },
  {
   "cell_type": "code",
   "execution_count": 7,
   "source": [
    "def q7(X, Y):\n",
    "    arr = np.zeros([X, Y]).astype(int)\n",
    "    arr[1] = range(0, Y)\n",
    "    arr[2] = range(0, 2*Y, 2)\n",
    "    print(arr)\n",
    "q7(3,5)\n",
    "\n",
    "# alt\n",
    "\n",
    "input_str = input()\n",
    "dimensions=[int(x) for x in input_str.split(',')]\n",
    "rowNum=dimensions[0]\n",
    "colNum=dimensions[1]\n",
    "multilist = [[0 for col in range(colNum)] for row in range(rowNum)]\n",
    "\n",
    "for row in range(rowNum):\n",
    "    for col in range(colNum):\n",
    "        multilist[row][col]= row*col\n",
    "\n",
    "print(multilist)"
   ],
   "outputs": [
    {
     "output_type": "stream",
     "name": "stdout",
     "text": [
      "[[0 0 0 0 0]\n",
      " [0 1 2 3 4]\n",
      " [0 2 4 6 8]]\n",
      "[[0, 0, 0, 0, 0], [0, 1, 2, 3, 4], [0, 2, 4, 6, 8]]\n"
     ]
    }
   ],
   "metadata": {}
  },
  {
   "cell_type": "markdown",
   "source": [
    "## Question 8\n",
    "Write a program that accepts a comma separated sequence of words as input and prints the words in a comma-separated sequence after sorting them alphabetically. Suppose the following input is supplied to the program: without,hello,bag,world Then, the output should be: bag,hello,without,world\n",
    "\n"
   ],
   "metadata": {}
  },
  {
   "cell_type": "code",
   "execution_count": 8,
   "source": [
    "def q8():\n",
    "    words = [word for word in input().split(',')]\n",
    "    words.sort()\n",
    "    print(','.join(words))\n",
    "    \n",
    "q8()\n",
    "    "
   ],
   "outputs": [
    {
     "output_type": "stream",
     "name": "stdout",
     "text": [
      "bag,hello,without,world\n"
     ]
    }
   ],
   "metadata": {}
  },
  {
   "cell_type": "markdown",
   "source": [
    "## Question 9\n",
    " Write a program that accepts sequence of lines as input and prints the lines after making all characters in the sentence capitalized. Suppose the following input is supplied to the program: Hello world Practice makes perfect Then, the output should be: HELLO WORLD PRACTICE MAKES PERFECT"
   ],
   "metadata": {}
  },
  {
   "cell_type": "code",
   "execution_count": null,
   "source": [
    "def q9():\n",
    "    lines = [line for line in input().split()]"
   ],
   "outputs": [],
   "metadata": {}
  },
  {
   "cell_type": "code",
   "execution_count": null,
   "source": [
    "def solution(lst):\n",
    "\t# Write your solution here.\n",
    "\tages = []\n",
    "\tfor i in range(len(lst)):\n",
    "\t\tdct = lst[i]\n",
    "\t\tages.append(dct['age']) \n",
    "\toldest = max(ages)\n",
    "\tperson = next(item for item in lst if item[\"age\"] == oldest)\n",
    "\treturn person\n",
    "\n",
    "lst = [\n",
    "    {\"name\": \"james\", \"age\": 26},\n",
    "    {\"name\": \"ravi\", \"age\": 50},\n",
    "    {\"name\": \"john\", \"age\": 50}\n",
    "]\n",
    "solution(lst)"
   ],
   "outputs": [
    {
     "output_type": "execute_result",
     "data": {
      "text/plain": [
       "{'name': 'ravi', 'age': 50}"
      ]
     },
     "metadata": {},
     "execution_count": 17
    }
   ],
   "metadata": {}
  },
  {
   "cell_type": "code",
   "execution_count": null,
   "source": [
    "from collections import defaultdict\n",
    "\n",
    "def group_by_owners(files):\n",
    "    reverse_files = defaultdict(list)\n",
    "    {reverse_files[v].append(k) for k, v in files.items()}\n",
    "    result = dict(reverse_files)\n",
    "    return result\n",
    "\n",
    "files = {\n",
    "        'Input.txt': 'Randy',\n",
    "        'Code.py': 'Stan',\n",
    "        'Output.txt': 'Randy'\n",
    "    }   \n",
    "group_by_owners(files)"
   ],
   "outputs": [
    {
     "output_type": "execute_result",
     "data": {
      "text/plain": [
       "{'Randy': ['Input.txt', 'Output.txt'], 'Stan': ['Code.py']}"
      ]
     },
     "metadata": {},
     "execution_count": 18
    }
   ],
   "metadata": {}
  },
  {
   "cell_type": "code",
   "execution_count": null,
   "source": [
    "class Node:\n",
    "    def __init__(self, value):\n",
    "        self.value = value\n",
    "        self.left = None\n",
    "        self.right = None\n",
    "        \n",
    "        \n",
    "\n",
    "class BinaryTree:\n",
    "    def __init__(self, root):\n",
    "        self.root = Node(root)\n",
    "        \n",
    "    \n",
    "    def print_tree(self, traversal_type):\n",
    "        if traversal_type == 'preorder':\n",
    "            return self.preorder_print(tree.root, '')\n",
    "        elif traversal_type == 'inorder':\n",
    "            return self.inorder_print(tree.root, '')\n",
    "        elif traversal_type == 'postorder':\n",
    "            return self.postorder_print(tree.root, '')\n",
    "        else:\n",
    "            print(f'Traversal type ' + str(traversal_type) + ' is not supported.')\n",
    "            \n",
    "        \n",
    "    def preorder_print(self, start, traversal):\n",
    "        '''\n",
    "        root -> left -> right\n",
    "        '''\n",
    "        if start:\n",
    "            traversal += (str(start.value) + '-')\n",
    "            traversal = self.preorder_print(start.left, traversal)\n",
    "            traversal = self.preorder_print(start.right, traversal)\n",
    "        return traversal\n",
    "    \n",
    "    \n",
    "    def inorder_print(self, start, traversal):\n",
    "        '''\n",
    "        left -> root -> right\n",
    "        '''\n",
    "        if start:\n",
    "            traversal = self.preorder_print(start.left, traversal)\n",
    "            traversal += (str(start.value) + '-')\n",
    "            traversal = self.preorder_print(start.right, traversal)\n",
    "        return traversal\n",
    "    \n",
    "    \n",
    "    def postorder_print(self, start, traversal):\n",
    "        '''\n",
    "        left -> right -> root\n",
    "        '''\n",
    "        if start:\n",
    "            traversal = self.preorder_print(start.left, traversal)\n",
    "            traversal = self.preorder_print(start.right, traversal)\n",
    "            traversal += (str(start.value) + '-')\n",
    "        return traversal\n",
    "    \n",
    "    \n",
    "    def treeSum(self, root):\n",
    "        '''\n",
    "        Sums all the values in a binary tree.\n",
    "        '''\n",
    "        if root is None:\n",
    "            return 0\n",
    "        else:\n",
    "            leftSum = self.treeSum(root.left)\n",
    "            rightSum = self.treeSum(root.right)\n",
    "            return root.value + leftSum + rightSum\n",
    "    \n",
    "    \n",
    "    def reverseTree(self, root):\n",
    "        '''\n",
    "        Reverses a binary tree.\n",
    "        '''\n",
    "        if root is None:\n",
    "            return\n",
    "        else:\n",
    "            self.reverseTree(root.left)\n",
    "            self.reverseTree(root.right)\n",
    "            root.left, root.right = root.right, root.left\n",
    "            \n",
    "            \n",
    "            \n",
    "        \n",
    "tree = BinaryTree(1)\n",
    "tree.root.left = Node(2)\n",
    "tree.root.right = Node(3)\n",
    "tree.root.left.left = Node(4)\n",
    "tree.root.right.right = Node(5)\n",
    "\n",
    "tree.reverseTree(tree.root)\n",
    "\n",
    "tree.treeSum(tree.root)\n",
    "\n",
    "tree.print_tree('preorder')"
   ],
   "outputs": [
    {
     "output_type": "execute_result",
     "data": {
      "text/plain": [
       "'1-3-5-2-4-'"
      ]
     },
     "metadata": {},
     "execution_count": 19
    }
   ],
   "metadata": {}
  }
 ],
 "metadata": {
  "kernelspec": {
   "name": "python3",
   "display_name": "Python 3.8.8 64-bit ('base': conda)"
  },
  "language_info": {
   "codemirror_mode": {
    "name": "ipython",
    "version": 3
   },
   "file_extension": ".py",
   "mimetype": "text/x-python",
   "name": "python",
   "nbconvert_exporter": "python",
   "pygments_lexer": "ipython3",
   "version": "3.8.8"
  },
  "interpreter": {
   "hash": "e134e05457d34029b6460cd73bbf1ed73f339b5b6d98c95be70b69eba114fe95"
  }
 },
 "nbformat": 4,
 "nbformat_minor": 5
}